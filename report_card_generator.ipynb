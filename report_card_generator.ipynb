{
 "cells": [
  {
   "cell_type": "code",
   "execution_count": 1,
   "id": "1e59d984",
   "metadata": {},
   "outputs": [],
   "source": [
    "import os\n",
    "import pandas as pd\n",
    "import numpy as np\n",
    "import pdfkit\n",
    "from pdfkit.api import configuration\n",
    "from jinja2 import Environment, FileSystemLoader\n",
    "import base64"
   ]
  },
  {
   "cell_type": "code",
   "execution_count": 33,
   "id": "487d8fcd",
   "metadata": {},
   "outputs": [],
   "source": [
    "# provide the path to the pdf generator.\n",
    "wkhtml_path = pdfkit.configuration(wkhtmltopdf = r\"C:\\Program Files\\wkhtmltopdf\\bin\\wkhtmltopdf.exe\")"
   ]
  },
  {
   "cell_type": "code",
   "execution_count": 2,
   "id": "7cf4fc58",
   "metadata": {},
   "outputs": [],
   "source": [
    "# get the excel file in the current directory and use it to generate the result sheet.\n",
    "# We only want to work on one sheet at a time, and thus the excel file\n",
    "\n",
    "# todo-- Create a dir for all excel files and use a loop to generate results pdfs for each of them\n",
    "files = os.listdir('.')\n",
    "\n",
    "# Print the list of files\n",
    "for file in files:\n",
    "    if file.endswith('.xlsx') or file.endswith('.xls'):\n",
    "        result_sheet = file\n",
    "        sheet_name = result_sheet.split('.')[0]\n",
    "        \n",
    "df = pd.read_excel(result_sheet)"
   ]
  },
  {
   "cell_type": "code",
   "execution_count": 3,
   "id": "56f3a05d",
   "metadata": {},
   "outputs": [],
   "source": [
    "def get_classNames(sheet_name):\n",
    "    character_string = ''\n",
    "    characters = [character_string + i for i in sheet_name]\n",
    "    first_n, last_n = ''.join(characters[:3]).upper(), ''.join(characters[3:]).upper()\n",
    "    return f\"{first_n} {last_n}\""
   ]
  },
  {
   "cell_type": "code",
   "execution_count": 4,
   "id": "171eccfb",
   "metadata": {},
   "outputs": [],
   "source": [
    "class_name= get_classNames(sheet_name)"
   ]
  },
  {
   "cell_type": "markdown",
   "id": "6966dc27",
   "metadata": {},
   "source": [
    "# check for null values and replace by zero 0"
   ]
  },
  {
   "cell_type": "code",
   "execution_count": 6,
   "id": "50bd8b77",
   "metadata": {},
   "outputs": [],
   "source": [
    "df.replace(np.nan, 0, inplace=True)"
   ]
  },
  {
   "cell_type": "code",
   "execution_count": 7,
   "id": "144fb033",
   "metadata": {},
   "outputs": [],
   "source": [
    "df = df.set_index('roll_number')"
   ]
  },
  {
   "cell_type": "code",
   "execution_count": 8,
   "id": "17e94b33",
   "metadata": {},
   "outputs": [],
   "source": [
    "df = df.loc[(df != 0).any(axis=1)]"
   ]
  },
  {
   "cell_type": "markdown",
   "id": "4a384878",
   "metadata": {},
   "source": [
    "# Start calculating the extra fields such as the totals for each subject.\n",
    "## english_total, math_total, science_total and for all subjects calculate the total"
   ]
  },
  {
   "cell_type": "code",
   "execution_count": 12,
   "id": "aa3b7b34",
   "metadata": {},
   "outputs": [],
   "source": [
    "df['english_total'] = df['english_class']+df['english_exam']\n",
    "df['math_total'] = df['math_class']+df['math_exam']\n",
    "df['science_total'] = df['science_class']+df['science_exam']\n",
    "df['social_total'] = df['social_class']+df['social_exam']\n",
    "df['rme_total'] = df['rme_class']+df['rme_exam']\n",
    "df['ict_total'] = df['ict_class']+df['ict_exam']\n",
    "df['french_total'] = df['french_class']+df['french_exam']\n",
    "df['twi_total'] = df['twi_class']+df['twi_exam']\n",
    "df['bdt_total'] = df['bdt_class']+df['bdt_exam']"
   ]
  },
  {
   "cell_type": "markdown",
   "id": "ee7894a4",
   "metadata": {},
   "source": [
    "### Calculate the grade for each subject and assign it to the grade column"
   ]
  },
  {
   "cell_type": "code",
   "execution_count": 13,
   "id": "b112c4cf",
   "metadata": {},
   "outputs": [],
   "source": [
    "# Define the function\n",
    "def get_subject_grade(subject_total):\n",
    "    grading = {}\n",
    "    if subject_total >= 80 and subject_total <= 100:\n",
    "        grade, remark = 1, 'Excellent'\n",
    "    elif subject_total >= 70 and subject_total <= 79:\n",
    "        grade, remark = 2, 'Very Good'\n",
    "    elif subject_total >= 60 and subject_total <= 69:\n",
    "        grade, remark = 3, 'Good'\n",
    "    elif subject_total >= 50 and subject_total <= 59:\n",
    "        grade, remark = 4, 'Credit'\n",
    "    elif subject_total >= 45 and subject_total <= 49:\n",
    "        grade, remark = 5, 'Pass'\n",
    "    else:\n",
    "        grade, remark = 6, 'Fail'\n",
    "        \n",
    "    grading = {\n",
    "        'grade': grade,\n",
    "        'remark': remark\n",
    "    }\n",
    "    return grading\n",
    "\n"
   ]
  },
  {
   "cell_type": "code",
   "execution_count": 14,
   "id": "43fdad33",
   "metadata": {},
   "outputs": [],
   "source": [
    "\n",
    "# Apply the function to each subject's total score and create new columns for grade and remarks\n",
    "df['math_grade'] = df['math_total'].apply(lambda x: get_subject_grade(x)['grade'])\n",
    "df['math_remark'] = df['math_total'].apply(lambda x: get_subject_grade(x)['remark'])\n",
    "\n",
    "df['english_grade'] = df['english_total'].apply(lambda x: get_subject_grade(x)['grade'])\n",
    "df['english_remark'] = df['english_total'].apply(lambda x: get_subject_grade(x)['remark'])\n",
    "\n",
    "df['science_grade'] = df['science_total'].apply(lambda x: get_subject_grade(x)['grade'])\n",
    "df['science_remark'] = df['science_total'].apply(lambda x: get_subject_grade(x)['remark'])\n",
    "\n",
    "df['social_grade'] = df['social_total'].apply(lambda x: get_subject_grade(x)['grade'])\n",
    "df['social_remark'] = df['social_total'].apply(lambda x: get_subject_grade(x)['remark'])\n",
    "\n",
    "df['ict_grade'] = df['ict_total'].apply(lambda x: get_subject_grade(x)['grade'])\n",
    "df['ict_remark'] = df['ict_total'].apply(lambda x: get_subject_grade(x)['remark'])\n",
    "\n",
    "df['rme_grade'] = df['rme_total'].apply(lambda x: get_subject_grade(x)['grade'])\n",
    "df['rme_remark'] = df['rme_total'].apply(lambda x: get_subject_grade(x)['remark'])\n",
    "\n",
    "df['twi_grade'] = df['twi_total'].apply(lambda x: get_subject_grade(x)['grade'])\n",
    "df['twi_remark'] = df['twi_total'].apply(lambda x: get_subject_grade(x)['remark'])\n",
    "\n",
    "df['french_grade'] = df['french_total'].apply(lambda x: get_subject_grade(x)['grade'])\n",
    "df['french_remark'] = df['french_total'].apply(lambda x: get_subject_grade(x)['remark'])\n",
    "\n",
    "df['bdt_grade'] = df['bdt_total'].apply(lambda x: get_subject_grade(x)['grade'])\n",
    "df['bdt_remark'] = df['bdt_total'].apply(lambda x: get_subject_grade(x)['remark'])\n"
   ]
  },
  {
   "cell_type": "markdown",
   "id": "1b5e472f",
   "metadata": {},
   "source": [
    "### Calculate the overall total marks for each student"
   ]
  },
  {
   "cell_type": "code",
   "execution_count": 15,
   "id": "275f4023",
   "metadata": {},
   "outputs": [],
   "source": [
    "# \n",
    "df['overall_total']=df['english_total']+df['math_total']+df['science_total']+df['social_total']+df['rme_total']+df['ict_total']+df['french_total']+df['twi_total']+df['bdt_total']\n",
    "# \n",
    "df['overall_total']= round(df['overall_total'],1)\n"
   ]
  },
  {
   "cell_type": "markdown",
   "id": "a43d5b4c",
   "metadata": {},
   "source": [
    "Get other subjects aside the 4 core subjects to get the best two"
   ]
  },
  {
   "cell_type": "code",
   "execution_count": 16,
   "id": "4b1957d0",
   "metadata": {},
   "outputs": [
    {
     "data": {
      "text/html": [
       "<div>\n",
       "<style scoped>\n",
       "    .dataframe tbody tr th:only-of-type {\n",
       "        vertical-align: middle;\n",
       "    }\n",
       "\n",
       "    .dataframe tbody tr th {\n",
       "        vertical-align: top;\n",
       "    }\n",
       "\n",
       "    .dataframe thead th {\n",
       "        text-align: right;\n",
       "    }\n",
       "</style>\n",
       "<table border=\"1\" class=\"dataframe\">\n",
       "  <thead>\n",
       "    <tr style=\"text-align: right;\">\n",
       "      <th></th>\n",
       "      <th>rme_grade</th>\n",
       "      <th>ict_grade</th>\n",
       "      <th>twi_grade</th>\n",
       "      <th>french_grade</th>\n",
       "      <th>bdt_grade</th>\n",
       "    </tr>\n",
       "    <tr>\n",
       "      <th>roll_number</th>\n",
       "      <th></th>\n",
       "      <th></th>\n",
       "      <th></th>\n",
       "      <th></th>\n",
       "      <th></th>\n",
       "    </tr>\n",
       "  </thead>\n",
       "  <tbody>\n",
       "    <tr>\n",
       "      <th>1</th>\n",
       "      <td>1</td>\n",
       "      <td>1</td>\n",
       "      <td>1</td>\n",
       "      <td>6</td>\n",
       "      <td>1</td>\n",
       "    </tr>\n",
       "    <tr>\n",
       "      <th>2</th>\n",
       "      <td>3</td>\n",
       "      <td>1</td>\n",
       "      <td>3</td>\n",
       "      <td>1</td>\n",
       "      <td>1</td>\n",
       "    </tr>\n",
       "    <tr>\n",
       "      <th>3</th>\n",
       "      <td>1</td>\n",
       "      <td>1</td>\n",
       "      <td>1</td>\n",
       "      <td>1</td>\n",
       "      <td>1</td>\n",
       "    </tr>\n",
       "    <tr>\n",
       "      <th>4</th>\n",
       "      <td>4</td>\n",
       "      <td>4</td>\n",
       "      <td>4</td>\n",
       "      <td>3</td>\n",
       "      <td>4</td>\n",
       "    </tr>\n",
       "    <tr>\n",
       "      <th>5</th>\n",
       "      <td>1</td>\n",
       "      <td>4</td>\n",
       "      <td>1</td>\n",
       "      <td>4</td>\n",
       "      <td>4</td>\n",
       "    </tr>\n",
       "    <tr>\n",
       "      <th>6</th>\n",
       "      <td>2</td>\n",
       "      <td>6</td>\n",
       "      <td>2</td>\n",
       "      <td>1</td>\n",
       "      <td>6</td>\n",
       "    </tr>\n",
       "    <tr>\n",
       "      <th>7</th>\n",
       "      <td>1</td>\n",
       "      <td>1</td>\n",
       "      <td>1</td>\n",
       "      <td>1</td>\n",
       "      <td>1</td>\n",
       "    </tr>\n",
       "    <tr>\n",
       "      <th>8</th>\n",
       "      <td>6</td>\n",
       "      <td>1</td>\n",
       "      <td>6</td>\n",
       "      <td>1</td>\n",
       "      <td>1</td>\n",
       "    </tr>\n",
       "    <tr>\n",
       "      <th>9</th>\n",
       "      <td>1</td>\n",
       "      <td>1</td>\n",
       "      <td>1</td>\n",
       "      <td>1</td>\n",
       "      <td>1</td>\n",
       "    </tr>\n",
       "    <tr>\n",
       "      <th>10</th>\n",
       "      <td>1</td>\n",
       "      <td>1</td>\n",
       "      <td>1</td>\n",
       "      <td>1</td>\n",
       "      <td>1</td>\n",
       "    </tr>\n",
       "    <tr>\n",
       "      <th>11</th>\n",
       "      <td>1</td>\n",
       "      <td>1</td>\n",
       "      <td>1</td>\n",
       "      <td>1</td>\n",
       "      <td>1</td>\n",
       "    </tr>\n",
       "    <tr>\n",
       "      <th>12</th>\n",
       "      <td>6</td>\n",
       "      <td>6</td>\n",
       "      <td>6</td>\n",
       "      <td>6</td>\n",
       "      <td>6</td>\n",
       "    </tr>\n",
       "  </tbody>\n",
       "</table>\n",
       "</div>"
      ],
      "text/plain": [
       "             rme_grade  ict_grade  twi_grade  french_grade  bdt_grade\n",
       "roll_number                                                          \n",
       "1                    1          1          1             6          1\n",
       "2                    3          1          3             1          1\n",
       "3                    1          1          1             1          1\n",
       "4                    4          4          4             3          4\n",
       "5                    1          4          1             4          4\n",
       "6                    2          6          2             1          6\n",
       "7                    1          1          1             1          1\n",
       "8                    6          1          6             1          1\n",
       "9                    1          1          1             1          1\n",
       "10                   1          1          1             1          1\n",
       "11                   1          1          1             1          1\n",
       "12                   6          6          6             6          6"
      ]
     },
     "execution_count": 16,
     "metadata": {},
     "output_type": "execute_result"
    }
   ],
   "source": [
    "other_subjects = ['rme_grade', 'ict_grade', 'twi_grade', 'french_grade', 'bdt_grade']\n",
    "oth_sub = df[other_subjects]"
   ]
  },
  {
   "cell_type": "markdown",
   "id": "add1ab8b",
   "metadata": {},
   "source": [
    "Get the two smallest numbers and sum them"
   ]
  },
  {
   "cell_type": "code",
   "execution_count": 17,
   "id": "8862d75b",
   "metadata": {},
   "outputs": [],
   "source": [
    "# Function to get the two best grades (ie, smallest integers). nsmallest() picks the first occurance of duplicate values\n",
    "def get_two_smallest(row):\n",
    "    smallest_grades = row.nsmallest(2)\n",
    "    return smallest_grades.sum()"
   ]
  },
  {
   "cell_type": "code",
   "execution_count": 19,
   "id": "892c038c",
   "metadata": {},
   "outputs": [],
   "source": [
    "# Add grades of the core subjects for each student\n",
    "df['core_sub_grade'] = df['math_grade']+df['english_grade']+df['science_grade']+df['social_grade']\n",
    "\n",
    "# The best two from the rest of the subjects\n",
    "df['best_two_grade'] = oth_sub.apply(get_two_smallest, axis=1)\n",
    "\n",
    "# Add the two to get the overall grade for each student\n",
    "df['overall_grade'] = df['core_sub_grade'] + df['best_two_grade']\n"
   ]
  },
  {
   "cell_type": "markdown",
   "id": "970816f4",
   "metadata": {},
   "source": [
    "### Do the rankings (position in class and for each subject)"
   ]
  },
  {
   "cell_type": "code",
   "execution_count": 20,
   "id": "ec282382",
   "metadata": {},
   "outputs": [],
   "source": [
    "# \n",
    "df['class_position'] = df['overall_total'].rank(ascending=False, method='dense')"
   ]
  },
  {
   "cell_type": "code",
   "execution_count": 21,
   "id": "2d95940a",
   "metadata": {},
   "outputs": [],
   "source": [
    "def add_suffix(class_position):\n",
    "    if 10 <= class_position % 100 <= 20:\n",
    "        suffix = 'th'\n",
    "    else:\n",
    "        suffix = {1: 'st', 2: 'nd', 3: 'rd'}.get(class_position % 10, 'th')\n",
    "    return f\"{int(class_position)}{suffix}\""
   ]
  },
  {
   "cell_type": "code",
   "execution_count": 22,
   "id": "1b70167f",
   "metadata": {},
   "outputs": [],
   "source": [
    "# Apply the add_suffix function to the 'class_position' column\n",
    "df['class_position'] = df['class_position'].apply(add_suffix)"
   ]
  },
  {
   "cell_type": "markdown",
   "id": "9aa52bdb",
   "metadata": {},
   "source": [
    "### Do subject positions"
   ]
  },
  {
   "cell_type": "code",
   "execution_count": 23,
   "id": "9d41b408",
   "metadata": {},
   "outputs": [],
   "source": [
    "df['math_position'] = df['math_total'].rank(ascending=False, method='dense').apply(add_suffix)\n",
    "df['english_position'] = df['science_total'].rank(ascending=False, method='dense').apply(add_suffix)\n",
    "df['science_position'] = df['english_total'].rank(ascending=False, method='dense').apply(add_suffix)\n",
    "df['social_position'] = df['social_total'].rank(ascending=False, method='dense').apply(add_suffix)\n",
    "df['rme_position'] = df['rme_total'].rank(ascending=False, method='dense').apply(add_suffix)\n",
    "df['ict_position'] = df['ict_total'].rank(ascending=False, method='dense').apply(add_suffix)\n",
    "df['french_position'] = df['french_total'].rank(ascending=False, method='dense').apply(add_suffix)\n",
    "df['twi_position'] = df['twi_total'].rank(ascending=False, method='dense').apply(add_suffix)\n",
    "df['bdt_position'] = df['bdt_total'].rank(ascending=False, method='dense').apply(add_suffix)"
   ]
  },
  {
   "cell_type": "markdown",
   "id": "afd6b861",
   "metadata": {},
   "source": [
    "\n",
    "# convert the image to a base64 encoded string for html to render\n",
    "## Handle all image conversion here, e.g., school logo, student photo ID etc"
   ]
  },
  {
   "cell_type": "code",
   "execution_count": 25,
   "id": "41881216",
   "metadata": {},
   "outputs": [],
   "source": [
    "def encode_image_file(image_path):\n",
    "    with open(image_path, \"rb\") as image_file:\n",
    "        # Read the image file and encode it as base64\n",
    "        return base64.b64encode(image_file.read()).decode(\"utf-8\")"
   ]
  },
  {
   "cell_type": "code",
   "execution_count": 26,
   "id": "b43f4d23",
   "metadata": {
    "scrolled": false
   },
   "outputs": [],
   "source": [
    "# df['encoded_image'] = df['student_photo'].apply(encode_image_file)"
   ]
  },
  {
   "cell_type": "code",
   "execution_count": 27,
   "id": "1125aff7",
   "metadata": {},
   "outputs": [],
   "source": [
    "school_logo = encode_image_file(r\"logo.jpg\")"
   ]
  },
  {
   "cell_type": "code",
   "execution_count": 28,
   "id": "268afddd",
   "metadata": {},
   "outputs": [],
   "source": [
    "total_students = df.shape[0]"
   ]
  },
  {
   "cell_type": "code",
   "execution_count": 30,
   "id": "69ddaf62",
   "metadata": {},
   "outputs": [
    {
     "name": "stdout",
     "output_type": "stream",
     "text": [
      "PDF generated: JHS 1B_all_students_results.pdf\n"
     ]
    }
   ],
   "source": [
    "# Custom HTML template path\n",
    "html_template_path = 'student_results_template.html'\n",
    "\n",
    "# Output PDF path\n",
    "pdf_output_path = f\"{class_name}_students_results.pdf\"\n",
    "\n",
    "# Create a Jinja2 environment\n",
    "env = Environment(loader=FileSystemLoader('.'))\n",
    "template = env.get_template(html_template_path)\n",
    "\n",
    "# Create a list to store individual HTML templates for each row\n",
    "individual_html_templates = []\n",
    "\n",
    "# Iterate through the DataFrame rows\n",
    "for index, row in df.iterrows():\n",
    "    # Render the HTML template for each row\n",
    "    html_template = template.render(school_logo=school_logo,\n",
    "                                    student_name=row['student_name'], \n",
    "                                    roll_number=index, \n",
    "                                    total_students=total_students,\n",
    "                                    class_name=class_name,\n",
    "                                    grade=row['overall_grade'],\n",
    "                                    total_score=row['overall_total'],\n",
    "                                    class_position=row['class_position'],\n",
    "                                    english_exam=row['english_exam'], \n",
    "                                    english_class=row['english_class'],\n",
    "                                    math_exam=row['math_exam'], \n",
    "                                    math_class=row['math_class'],\n",
    "                                    english_total=row['english_total'], \n",
    "                                    math_total=row['math_total'],\n",
    "                                    science_total=row['science_total'],\n",
    "                                    science_class=row['science_class'],\n",
    "                                    science_exam=row['science_exam'],\n",
    "                                    science_grade=row['science_grade'],\n",
    "                                    math_grade=row['math_grade'],\n",
    "                                    english_grade=row['english_grade'],\n",
    "                                    science_remark=row['science_remark'],\n",
    "                                    math_remark=row['math_remark'],\n",
    "                                    english_remark=row['english_remark'],\n",
    "                                    math_position=row['math_position'],\n",
    "                                    english_position=row['english_position'],\n",
    "                                    science_position=row['science_position'],\n",
    "                                    social_class=row['social_class'],\n",
    "                                    social_exam=row['social_exam'],\n",
    "                                    social_grade=row['social_grade'],\n",
    "                                    social_total=row['social_total'],\n",
    "                                    social_remark=row['social_remark'],\n",
    "                                    social_position=row['social_position'],\n",
    "                                    twi_class=row['twi_class'],\n",
    "                                    twi_exam=row['twi_exam'],\n",
    "                                    twi_grade=row['twi_grade'],\n",
    "                                    twi_total=row['twi_total'],\n",
    "                                    twi_remark=row['twi_remark'],\n",
    "                                    twi_position=row['twi_position'],\n",
    "                                    ict_class=row['ict_class'],\n",
    "                                    ict_exam=row['ict_exam'],\n",
    "                                    ict_grade=row['ict_grade'],\n",
    "                                    ict_total=row['ict_total'],\n",
    "                                    ict_remark=row['ict_remark'],\n",
    "                                    ict_position=row['ict_position'],\n",
    "                                    french_class=row['french_class'],\n",
    "                                    french_exam=row['french_exam'],\n",
    "                                    french_grade=row['french_grade'],\n",
    "                                    french_total=row['french_total'],\n",
    "                                    french_remark=row['french_remark'],\n",
    "                                    french_position=row['french_position'],\n",
    "                                    rme_class=row['rme_class'],\n",
    "                                    rme_exam=row['rme_exam'],\n",
    "                                    rme_grade=row['rme_grade'],\n",
    "                                    rme_total=row['rme_total'],\n",
    "                                    rme_remark=row['rme_remark'],\n",
    "                                    rme_position=row['rme_position'],\n",
    "                                    bdt_class=row['bdt_class'],\n",
    "                                    bdt_exam=row['bdt_exam'],\n",
    "                                    bdt_grade=row['bdt_grade'],\n",
    "                                    bdt_total=row['bdt_total'],\n",
    "                                    bdt_remark=row['bdt_remark'],\n",
    "                                    bdt_position=row['bdt_position'],\n",
    "                                    )\n",
    "    \n",
    "    # Wrap the individual HTML template in a div with a page break\n",
    "    individual_html_with_page_break = f'<div style=\"page-break-before: always;\">{html_template}</div>'\n",
    "    \n",
    "    # Append the individual HTML template to the list\n",
    "    individual_html_templates.append(individual_html_with_page_break)\n",
    "\n",
    "# Combine individual HTML templates into a single HTML document\n",
    "combined_html = \"\\n\".join(individual_html_templates)\n",
    "\n",
    "# Save the combined HTML to a file\n",
    "combined_html_path = 'combined_student_results.html'\n",
    "with open(combined_html_path, 'w', encoding='utf-8') as html_file:\n",
    "    html_file.write(combined_html)\n",
    "\n",
    "# Generate a single PDF from the combined HTML\n",
    "pdfkit.from_file(combined_html_path, pdf_output_path, configuration=wkhtml_path, options={\"enable-local-file-access\": \"\"})\n",
    "\n",
    "print(f'PDF generated: {pdf_output_path}')\n",
    "\n",
    "# Optional: Delete the temporary combined HTML file\n",
    "import os\n",
    "os.remove(combined_html_path)\n"
   ]
  }
 ],
 "metadata": {
  "kernelspec": {
   "display_name": "Python 3 (ipykernel)",
   "language": "python",
   "name": "python3"
  },
  "language_info": {
   "codemirror_mode": {
    "name": "ipython",
    "version": 3
   },
   "file_extension": ".py",
   "mimetype": "text/x-python",
   "name": "python",
   "nbconvert_exporter": "python",
   "pygments_lexer": "ipython3",
   "version": "3.9.12"
  }
 },
 "nbformat": 4,
 "nbformat_minor": 5
}
